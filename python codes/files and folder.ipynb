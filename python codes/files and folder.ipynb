{
 "cells": [
  {
   "cell_type": "code",
   "execution_count": 1,
   "id": "47d2579a",
   "metadata": {},
   "outputs": [
    {
     "data": {
      "text/plain": [
       "'C:\\\\Users\\\\Dell\\\\python codes'"
      ]
     },
     "execution_count": 1,
     "metadata": {},
     "output_type": "execute_result"
    }
   ],
   "source": [
    "pwd"
   ]
  },
  {
   "cell_type": "code",
   "execution_count": 2,
   "id": "23eccb3c",
   "metadata": {},
   "outputs": [],
   "source": [
    "f = open('practise.txt','w+')\n",
    "f.write('this is test string')\n",
    "f.close()"
   ]
  },
  {
   "cell_type": "code",
   "execution_count": 3,
   "id": "2e595c31",
   "metadata": {},
   "outputs": [],
   "source": [
    "import os"
   ]
  },
  {
   "cell_type": "code",
   "execution_count": 4,
   "id": "b6a2b13d",
   "metadata": {},
   "outputs": [
    {
     "data": {
      "text/plain": [
       "'C:\\\\Users\\\\Dell\\\\python codes'"
      ]
     },
     "execution_count": 4,
     "metadata": {},
     "output_type": "execute_result"
    }
   ],
   "source": [
    "os.getcwd()"
   ]
  },
  {
   "cell_type": "code",
   "execution_count": 7,
   "id": "481f6770",
   "metadata": {},
   "outputs": [
    {
     "data": {
      "text/plain": [
       "['All Users', 'Default', 'Default User', 'Dell', 'desktop.ini', 'Public']"
      ]
     },
     "execution_count": 7,
     "metadata": {},
     "output_type": "execute_result"
    }
   ],
   "source": [
    "os.listdir('C:\\\\Users')"
   ]
  },
  {
   "cell_type": "code",
   "execution_count": 8,
   "id": "f6ba1cfc",
   "metadata": {},
   "outputs": [],
   "source": [
    "import shutil"
   ]
  },
  {
   "cell_type": "code",
   "execution_count": 15,
   "id": "5defc94a",
   "metadata": {
    "scrolled": true
   },
   "outputs": [
    {
     "data": {
      "text/plain": [
       "'C:\\\\Users\\\\Dell\\\\python codes\\\\practise.txt'"
      ]
     },
     "execution_count": 15,
     "metadata": {},
     "output_type": "execute_result"
    }
   ],
   "source": [
    "shutil.move('C:\\\\Users\\\\Dell\\\\cricket\\\\practise.txt',os.getcwd())"
   ]
  },
  {
   "cell_type": "code",
   "execution_count": 16,
   "id": "ac2490d2",
   "metadata": {},
   "outputs": [
    {
     "data": {
      "text/plain": [
       "['.ipynb_checkpoints', 'cricket flask.ipynb', 'cricket.ipynb']"
      ]
     },
     "execution_count": 16,
     "metadata": {},
     "output_type": "execute_result"
    }
   ],
   "source": [
    "os.listdir('C:\\\\Users\\\\Dell\\\\cricket')"
   ]
  },
  {
   "cell_type": "code",
   "execution_count": 17,
   "id": "a66c2b03",
   "metadata": {},
   "outputs": [],
   "source": [
    "import send2trash"
   ]
  },
  {
   "cell_type": "code",
   "execution_count": 12,
   "id": "3aaa54d1",
   "metadata": {},
   "outputs": [
    {
     "data": {
      "text/plain": [
       "['.ipynb_checkpoints',\n",
       " 'absff.txt',\n",
       " 'args kwargs.ipynb',\n",
       " 'assesment.ipynb',\n",
       " 'assesment2.ipynb',\n",
       " 'collections.ipynb',\n",
       " 'decorators.ipynb',\n",
       " 'dictionaries.ipynb',\n",
       " 'error 1.ipynb',\n",
       " 'error homework.ipynb',\n",
       " 'example.txt',\n",
       " 'files and folder.ipynb',\n",
       " 'files.ipynb',\n",
       " 'for loop.ipynb',\n",
       " 'function homework.ipynb',\n",
       " 'function practice.ipynb',\n",
       " 'function.ipynb',\n",
       " 'functions exercise (outside).ipynb',\n",
       " 'generator .ipynb',\n",
       " 'if elif else.ipynb',\n",
       " 'interaction between function.ipynb',\n",
       " 'lambda expression map and fliter function.ipynb',\n",
       " 'list comprehensin.ipynb',\n",
       " 'lists.ipynb',\n",
       " 'mile stone 2.ipynb',\n",
       " 'milestone project warm up.ipynb',\n",
       " 'myfile.txt',\n",
       " 'mystone.ipynb',\n",
       " 'my_new_file.txt',\n",
       " 'nested statements and scope.ipynb',\n",
       " 'oop class keyword and attribute.ipynb',\n",
       " 'oop homework.ipynb',\n",
       " 'oop inheritance and polymorphism .ipynb',\n",
       " 'operators & chainning opreators.ipynb',\n",
       " 'sets and booleans.ipynb',\n",
       " 'testfile',\n",
       " 'tuples.ipynb',\n",
       " 'useful operators .ipynb',\n",
       " 'user interaction 2.ipynb',\n",
       " 'while loops.ipynb']"
      ]
     },
     "execution_count": 12,
     "metadata": {},
     "output_type": "execute_result"
    }
   ],
   "source": [
    "os.listdir()"
   ]
  },
  {
   "cell_type": "code",
   "execution_count": 18,
   "id": "ae7853c2",
   "metadata": {},
   "outputs": [],
   "source": [
    "send2trash.send2trash('practise.txt')"
   ]
  },
  {
   "cell_type": "code",
   "execution_count": 19,
   "id": "31d7b27f",
   "metadata": {},
   "outputs": [
    {
     "data": {
      "text/plain": [
       "['.ipynb_checkpoints',\n",
       " 'absff.txt',\n",
       " 'args kwargs.ipynb',\n",
       " 'assesment.ipynb',\n",
       " 'assesment2.ipynb',\n",
       " 'collections.ipynb',\n",
       " 'decorators.ipynb',\n",
       " 'dictionaries.ipynb',\n",
       " 'error 1.ipynb',\n",
       " 'error homework.ipynb',\n",
       " 'example.txt',\n",
       " 'files and folder.ipynb',\n",
       " 'files.ipynb',\n",
       " 'for loop.ipynb',\n",
       " 'function homework.ipynb',\n",
       " 'function practice.ipynb',\n",
       " 'function.ipynb',\n",
       " 'functions exercise (outside).ipynb',\n",
       " 'generator .ipynb',\n",
       " 'if elif else.ipynb',\n",
       " 'interaction between function.ipynb',\n",
       " 'lambda expression map and fliter function.ipynb',\n",
       " 'list comprehensin.ipynb',\n",
       " 'lists.ipynb',\n",
       " 'mile stone 2.ipynb',\n",
       " 'milestone project warm up.ipynb',\n",
       " 'myfile.txt',\n",
       " 'mystone.ipynb',\n",
       " 'my_new_file.txt',\n",
       " 'nested statements and scope.ipynb',\n",
       " 'oop class keyword and attribute.ipynb',\n",
       " 'oop homework.ipynb',\n",
       " 'oop inheritance and polymorphism .ipynb',\n",
       " 'operators & chainning opreators.ipynb',\n",
       " 'sets and booleans.ipynb',\n",
       " 'testfile',\n",
       " 'tuples.ipynb',\n",
       " 'useful operators .ipynb',\n",
       " 'user interaction 2.ipynb',\n",
       " 'while loops.ipynb']"
      ]
     },
     "execution_count": 19,
     "metadata": {},
     "output_type": "execute_result"
    }
   ],
   "source": [
    "os.listdir()"
   ]
  },
  {
   "cell_type": "code",
   "execution_count": 21,
   "id": "f7503b53",
   "metadata": {},
   "outputs": [
    {
     "name": "stdout",
     "output_type": "stream",
     "text": [
      "currently in C:\\Users\\Dell\\example\n",
      "/n\n",
      "the subfolders are: \n",
      "subfolder: .ipynb_checkpoints\n",
      "currently in C:\\Users\\Dell\\example\\.ipynb_checkpoints\n",
      "/n\n",
      "the subfolders are: \n"
     ]
    }
   ],
   "source": [
    "for folder,sub_folders,files  in os.walk('C:\\\\Users\\\\Dell\\\\example'):\n",
    "    print(f'currently in {folder}')\n",
    "    print('/n')\n",
    "    print('the subfolders are: ')\n",
    "    for sub in sub_folders:\n",
    "        print(f'subfolder: {sub}')"
   ]
  },
  {
   "cell_type": "code",
   "execution_count": null,
   "id": "58a09a32",
   "metadata": {},
   "outputs": [],
   "source": []
  }
 ],
 "metadata": {
  "kernelspec": {
   "display_name": "Python 3 (ipykernel)",
   "language": "python",
   "name": "python3"
  },
  "language_info": {
   "codemirror_mode": {
    "name": "ipython",
    "version": 3
   },
   "file_extension": ".py",
   "mimetype": "text/x-python",
   "name": "python",
   "nbconvert_exporter": "python",
   "pygments_lexer": "ipython3",
   "version": "3.9.7"
  }
 },
 "nbformat": 4,
 "nbformat_minor": 5
}
