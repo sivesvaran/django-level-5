{
 "cells": [
  {
   "cell_type": "code",
   "execution_count": 1,
   "id": "3fc5ffde",
   "metadata": {},
   "outputs": [
    {
     "data": {
      "text/plain": [
       "'C:\\\\Users\\\\Dell\\\\python codes'"
      ]
     },
     "execution_count": 1,
     "metadata": {},
     "output_type": "execute_result"
    }
   ],
   "source": [
    "pwd"
   ]
  },
  {
   "cell_type": "code",
   "execution_count": 4,
   "id": "8cb0e2f0",
   "metadata": {},
   "outputs": [
    {
     "name": "stdout",
     "output_type": "stream",
     "text": [
      "no need to feed me\n"
     ]
    }
   ],
   "source": [
    "hungry = False\n",
    "\n",
    "if hungry:\n",
    "    print('feed me iam hungry')\n",
    "else:\n",
    "    print('no need to feed me')\n",
    "    "
   ]
  },
  {
   "cell_type": "code",
   "execution_count": 5,
   "id": "e815ba58",
   "metadata": {},
   "outputs": [
    {
     "name": "stdout",
     "output_type": "stream",
     "text": [
      "my bank account is hacked\n"
     ]
    }
   ],
   "source": [
    "loc = 'Bank'\n",
    "if loc == 'auto shop':\n",
    "    print('car are exceptional')\n",
    "elif loc == 'Bank':\n",
    "    print('my bank account is hacked')\n",
    "else:\n",
    "    print(\"i don't know where iam\")\n"
   ]
  },
  {
   "cell_type": "code",
   "execution_count": 6,
   "id": "7d6ab9fa",
   "metadata": {},
   "outputs": [
    {
     "name": "stdout",
     "output_type": "stream",
     "text": [
      "hello sives the great\n"
     ]
    }
   ],
   "source": [
    "name = 'sives'\n",
    "\n",
    "if name == 'frankie':\n",
    "    print('hello franky')\n",
    "elif name == 'sives':\n",
    "    print('hello sives the great')\n",
    "else:\n",
    "    print('what is your name')"
   ]
  },
  {
   "cell_type": "code",
   "execution_count": null,
   "id": "028e1af4",
   "metadata": {},
   "outputs": [],
   "source": []
  }
 ],
 "metadata": {
  "kernelspec": {
   "display_name": "Python 3 (ipykernel)",
   "language": "python",
   "name": "python3"
  },
  "language_info": {
   "codemirror_mode": {
    "name": "ipython",
    "version": 3
   },
   "file_extension": ".py",
   "mimetype": "text/x-python",
   "name": "python",
   "nbconvert_exporter": "python",
   "pygments_lexer": "ipython3",
   "version": "3.9.7"
  }
 },
 "nbformat": 4,
 "nbformat_minor": 5
}
