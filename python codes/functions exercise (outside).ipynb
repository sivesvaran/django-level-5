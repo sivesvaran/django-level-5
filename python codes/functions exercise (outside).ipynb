{
 "cells": [
  {
   "cell_type": "code",
   "execution_count": 8,
   "id": "c0a99ba7",
   "metadata": {},
   "outputs": [
    {
     "name": "stdout",
     "output_type": "stream",
     "text": [
      "enter a number:7\n",
      "enter a number:5\n",
      "sum  = 12\n",
      "sub = 2\n",
      "multiplication = 35\n"
     ]
    }
   ],
   "source": [
    "a = int(input('enter a number:'))\n",
    "b = int(input('enter a number:'))\n",
    "def math(a,b):\n",
    "    print(f'sum  = {a+b}')\n",
    "    print(f'sub = {a-b}')\n",
    "    print(f'multiplication = {a*b}')\n",
    "math(a,b)\n"
   ]
  },
  {
   "cell_type": "code",
   "execution_count": 9,
   "id": "7c136290",
   "metadata": {},
   "outputs": [
    {
     "name": "stdout",
     "output_type": "stream",
     "text": [
      "enter a number :2\n",
      "enter a number :3\n",
      "enter a number :1\n"
     ]
    }
   ],
   "source": [
    "a = int(input('enter a number :'))\n",
    "b = int(input('enter a number :'))\n",
    "c = int(input('enter a number :'))\n",
    "def func(a,b,c):\n",
    "    return max(a,b,c)\n"
   ]
  },
  {
   "cell_type": "code",
   "execution_count": 10,
   "id": "c129289e",
   "metadata": {},
   "outputs": [
    {
     "data": {
      "text/plain": [
       "3"
      ]
     },
     "execution_count": 10,
     "metadata": {},
     "output_type": "execute_result"
    }
   ],
   "source": [
    "func(a,b,c)"
   ]
  },
  {
   "cell_type": "code",
   "execution_count": 1,
   "id": "8abccbf3",
   "metadata": {},
   "outputs": [
    {
     "name": "stdout",
     "output_type": "stream",
     "text": [
      "enter a number :9099\n"
     ]
    }
   ],
   "source": [
    "a = int(input('enter a number :'))\n",
    "def check_even(a):\n",
    "    if a%2==0:\n",
    "        return(f'{a} is a even number')\n",
    "    else:\n",
    "        return(f'{a} is a odd number')\n"
   ]
  },
  {
   "cell_type": "code",
   "execution_count": 2,
   "id": "ce94ba20",
   "metadata": {},
   "outputs": [
    {
     "data": {
      "text/plain": [
       "'9099 is a odd number'"
      ]
     },
     "execution_count": 2,
     "metadata": {},
     "output_type": "execute_result"
    }
   ],
   "source": [
    "check_even(a)"
   ]
  },
  {
   "cell_type": "code",
   "execution_count": null,
   "id": "99425610",
   "metadata": {},
   "outputs": [],
   "source": []
  }
 ],
 "metadata": {
  "kernelspec": {
   "display_name": "Python 3 (ipykernel)",
   "language": "python",
   "name": "python3"
  },
  "language_info": {
   "codemirror_mode": {
    "name": "ipython",
    "version": 3
   },
   "file_extension": ".py",
   "mimetype": "text/x-python",
   "name": "python",
   "nbconvert_exporter": "python",
   "pygments_lexer": "ipython3",
   "version": "3.9.7"
  }
 },
 "nbformat": 4,
 "nbformat_minor": 5
}
