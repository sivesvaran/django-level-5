{
 "cells": [
  {
   "cell_type": "code",
   "execution_count": 1,
   "id": "d2de2a02",
   "metadata": {},
   "outputs": [],
   "source": [
    "mylist = [1,3,2]"
   ]
  },
  {
   "cell_type": "code",
   "execution_count": 2,
   "id": "6eb18afe",
   "metadata": {},
   "outputs": [],
   "source": [
    "mylist.append(4)"
   ]
  },
  {
   "cell_type": "code",
   "execution_count": 3,
   "id": "3727a47b",
   "metadata": {},
   "outputs": [
    {
     "data": {
      "text/plain": [
       "4"
      ]
     },
     "execution_count": 3,
     "metadata": {},
     "output_type": "execute_result"
    }
   ],
   "source": [
    "mylist.pop()"
   ]
  },
  {
   "cell_type": "code",
   "execution_count": 4,
   "id": "e912502b",
   "metadata": {},
   "outputs": [
    {
     "data": {
      "text/plain": [
       "[1, 3, 2]"
      ]
     },
     "execution_count": 4,
     "metadata": {},
     "output_type": "execute_result"
    }
   ],
   "source": [
    "mylist"
   ]
  },
  {
   "cell_type": "code",
   "execution_count": 5,
   "id": "3cc21d28",
   "metadata": {},
   "outputs": [
    {
     "data": {
      "text/plain": [
       "3"
      ]
     },
     "execution_count": 5,
     "metadata": {},
     "output_type": "execute_result"
    }
   ],
   "source": [
    "mylist.pop(1)"
   ]
  },
  {
   "cell_type": "code",
   "execution_count": 6,
   "id": "467f85f7",
   "metadata": {},
   "outputs": [
    {
     "data": {
      "text/plain": [
       "[1, 2]"
      ]
     },
     "execution_count": 6,
     "metadata": {},
     "output_type": "execute_result"
    }
   ],
   "source": [
    "mylist"
   ]
  },
  {
   "cell_type": "code",
   "execution_count": 7,
   "id": "7f10d31a",
   "metadata": {},
   "outputs": [
    {
     "name": "stdout",
     "output_type": "stream",
     "text": [
      "Help on built-in function insert:\n",
      "\n",
      "insert(index, object, /) method of builtins.list instance\n",
      "    Insert object before index.\n",
      "\n"
     ]
    }
   ],
   "source": [
    "help(mylist.insert)"
   ]
  },
  {
   "cell_type": "code",
   "execution_count": 28,
   "id": "aaadf962",
   "metadata": {},
   "outputs": [],
   "source": [
    "def first_function():\n",
    "    return 'your name is '"
   ]
  },
  {
   "cell_type": "code",
   "execution_count": 29,
   "id": "d6fa04a7",
   "metadata": {},
   "outputs": [
    {
     "data": {
      "text/plain": [
       "'your name is '"
      ]
     },
     "execution_count": 29,
     "metadata": {},
     "output_type": "execute_result"
    }
   ],
   "source": [
    "first_function()"
   ]
  },
  {
   "cell_type": "code",
   "execution_count": 34,
   "id": "6d44b933",
   "metadata": {},
   "outputs": [
    {
     "name": "stdout",
     "output_type": "stream",
     "text": [
      "num1 :2\n",
      "num2 :4\n"
     ]
    },
    {
     "data": {
      "text/plain": [
       "-2"
      ]
     },
     "execution_count": 34,
     "metadata": {},
     "output_type": "execute_result"
    }
   ],
   "source": [
    "    num1 = int(input('num1 :'))\n",
    "    num2 = int(input('num2 :'))\n",
    " #fully made by me\n",
    "def subtraction(num1,num2):\n",
    "     return num1-num2\n",
    "\n",
    "subtraction(num1,num2) "
   ]
  },
  {
   "cell_type": "code",
   "execution_count": null,
   "id": "6f06f1f5",
   "metadata": {},
   "outputs": [],
   "source": []
  },
  {
   "cell_type": "code",
   "execution_count": 32,
   "id": "e8fed9c8",
   "metadata": {},
   "outputs": [],
   "source": [
    "def say_hello():\n",
    "    print('hello')\n",
    "    print('iam fine')\n",
    "    \n",
    "    "
   ]
  },
  {
   "cell_type": "code",
   "execution_count": 33,
   "id": "69e7ef2e",
   "metadata": {},
   "outputs": [
    {
     "name": "stdout",
     "output_type": "stream",
     "text": [
      "hello\n",
      "iam fine\n"
     ]
    }
   ],
   "source": [
    "say_hello()"
   ]
  },
  {
   "cell_type": "code",
   "execution_count": 43,
   "id": "b7d9928a",
   "metadata": {},
   "outputs": [],
   "source": [
    "def say_hello(name='sives'):\n",
    "    print(f'hello {name}')"
   ]
  },
  {
   "cell_type": "code",
   "execution_count": 44,
   "id": "0a08ae88",
   "metadata": {},
   "outputs": [
    {
     "name": "stdout",
     "output_type": "stream",
     "text": [
      "hello sives\n"
     ]
    }
   ],
   "source": [
    "say_hello()"
   ]
  },
  {
   "cell_type": "code",
   "execution_count": 42,
   "id": "597ec09b",
   "metadata": {},
   "outputs": [
    {
     "name": "stdout",
     "output_type": "stream",
     "text": [
      "what is your name :ppppp\n",
      "hello ppppp\n"
     ]
    }
   ],
   "source": [
    "name = input('what is your name :')\n",
    "\n",
    "def say_hello(name):\n",
    "    print(f'hello {name}')\n",
    "\n",
    "say_hello(name)"
   ]
  },
  {
   "cell_type": "code",
   "execution_count": null,
   "id": "c769c618",
   "metadata": {},
   "outputs": [],
   "source": [
    "\n"
   ]
  },
  {
   "cell_type": "code",
   "execution_count": 46,
   "id": "1f68b254",
   "metadata": {},
   "outputs": [],
   "source": [
    "def print_result(a,b):\n",
    "    print(a+b)"
   ]
  },
  {
   "cell_type": "code",
   "execution_count": 47,
   "id": "5a997c14",
   "metadata": {},
   "outputs": [],
   "source": [
    "def return_result(a,b):\n",
    "    return a+b"
   ]
  },
  {
   "cell_type": "code",
   "execution_count": 48,
   "id": "2351cb41",
   "metadata": {},
   "outputs": [
    {
     "name": "stdout",
     "output_type": "stream",
     "text": [
      "40\n"
     ]
    }
   ],
   "source": [
    "print_result(19,21)"
   ]
  },
  {
   "cell_type": "code",
   "execution_count": 50,
   "id": "25171af6",
   "metadata": {},
   "outputs": [
    {
     "data": {
      "text/plain": [
       "40"
      ]
     },
     "execution_count": 50,
     "metadata": {},
     "output_type": "execute_result"
    }
   ],
   "source": [
    "return_result(19,21)"
   ]
  },
  {
   "cell_type": "code",
   "execution_count": 51,
   "id": "bac43ff3",
   "metadata": {},
   "outputs": [],
   "source": [
    "def myfunc(a,b):\n",
    "    print(a+b)\n",
    "    return(a+b)"
   ]
  },
  {
   "cell_type": "code",
   "execution_count": 52,
   "id": "1ddc40da",
   "metadata": {},
   "outputs": [
    {
     "name": "stdout",
     "output_type": "stream",
     "text": [
      "100\n"
     ]
    }
   ],
   "source": [
    "result = myfunc(99,1)"
   ]
  },
  {
   "cell_type": "code",
   "execution_count": 53,
   "id": "4028ad78",
   "metadata": {},
   "outputs": [
    {
     "data": {
      "text/plain": [
       "100"
      ]
     },
     "execution_count": 53,
     "metadata": {},
     "output_type": "execute_result"
    }
   ],
   "source": [
    "result"
   ]
  },
  {
   "cell_type": "code",
   "execution_count": 26,
   "id": "d19d9965",
   "metadata": {},
   "outputs": [],
   "source": [
    "def sum_numbers(num1,num2):\n",
    "    return num1+num2"
   ]
  },
  {
   "cell_type": "code",
   "execution_count": 27,
   "id": "9bd4c844",
   "metadata": {},
   "outputs": [
    {
     "data": {
      "text/plain": [
       "100"
      ]
     },
     "execution_count": 27,
     "metadata": {},
     "output_type": "execute_result"
    }
   ],
   "source": [
    "sum_numbers(10,90)"
   ]
  },
  {
   "cell_type": "code",
   "execution_count": 1,
   "id": "ec1dfac2",
   "metadata": {},
   "outputs": [
    {
     "ename": "NameError",
     "evalue": "name 'sum_numbers' is not defined",
     "output_type": "error",
     "traceback": [
      "\u001b[1;31m---------------------------------------------------------------------------\u001b[0m",
      "\u001b[1;31mNameError\u001b[0m                                 Traceback (most recent call last)",
      "\u001b[1;32m~\\AppData\\Local\\Temp/ipykernel_11876/1524872402.py\u001b[0m in \u001b[0;36m<module>\u001b[1;34m\u001b[0m\n\u001b[1;32m----> 1\u001b[1;33m \u001b[0msum_numbers\u001b[0m\u001b[1;33m(\u001b[0m\u001b[1;33m)\u001b[0m\u001b[1;33m\u001b[0m\u001b[1;33m\u001b[0m\u001b[0m\n\u001b[0m",
      "\u001b[1;31mNameError\u001b[0m: name 'sum_numbers' is not defined"
     ]
    }
   ],
   "source": [
    "sum_numbers()"
   ]
  },
  {
   "cell_type": "code",
   "execution_count": 2,
   "id": "86495565",
   "metadata": {},
   "outputs": [
    {
     "name": "stdout",
     "output_type": "stream",
     "text": [
      "what is your name: varan\n"
     ]
    },
    {
     "data": {
      "text/plain": [
       "'you are an good person'"
      ]
     },
     "execution_count": 2,
     "metadata": {},
     "output_type": "execute_result"
    }
   ],
   "source": [
    "name = input('what is your name: ')\n",
    "def intelligent_test(name):\n",
    "    if name[0] == 's' or name[0] == \"S\":\n",
    "        return 'your are an intelligent and smart'\n",
    "    elif name[0] == 'r' or name[0] == 'R':\n",
    "        return 'your are an idiot'\n",
    "    elif name[0] == 'p' or name[0] == 'P':\n",
    "        return 'yor an excellent person'\n",
    "    elif name[0] == 'b' or name[0] == 'b':\n",
    "        return 'your are a great person '\n",
    "    else:\n",
    "        return 'you are an good person'\n",
    "    \n",
    "intelligent_test(name)\n"
   ]
  },
  {
   "cell_type": "code",
   "execution_count": 14,
   "id": "59207c78",
   "metadata": {},
   "outputs": [
    {
     "data": {
      "text/plain": [
       "'it is an odd number'"
      ]
     },
     "execution_count": 14,
     "metadata": {},
     "output_type": "execute_result"
    }
   ],
   "source": [
    "def num_check(num):\n",
    "    if num%2==0:\n",
    "        return 'it is an even number'\n",
    "    else:\n",
    "        return 'it is an odd number'\n",
    "    \n",
    "num_check(29)"
   ]
  },
  {
   "cell_type": "code",
   "execution_count": 15,
   "id": "3623842a",
   "metadata": {},
   "outputs": [],
   "source": [
    "def even_check(num):\n",
    "    return num % 2 == 0"
   ]
  },
  {
   "cell_type": "code",
   "execution_count": 16,
   "id": "6e44f371",
   "metadata": {},
   "outputs": [
    {
     "data": {
      "text/plain": [
       "False"
      ]
     },
     "execution_count": 16,
     "metadata": {},
     "output_type": "execute_result"
    }
   ],
   "source": [
    "even_check(19)"
   ]
  },
  {
   "cell_type": "code",
   "execution_count": 17,
   "id": "1af7212f",
   "metadata": {},
   "outputs": [
    {
     "data": {
      "text/plain": [
       "True"
      ]
     },
     "execution_count": 17,
     "metadata": {},
     "output_type": "execute_result"
    }
   ],
   "source": [
    "even_check(48)"
   ]
  },
  {
   "cell_type": "code",
   "execution_count": 3,
   "id": "2b43efdb",
   "metadata": {},
   "outputs": [],
   "source": [
    "def even_list_check(num_list):\n",
    "    even_numbers  = []\n",
    "    for num in num_list:\n",
    "        if num % 2 == 0:\n",
    "            even_numbers.append(num)\n",
    "        else:\n",
    "             pass\n",
    "            \n",
    "    return even_numbers\n",
    "        \n",
    "    \n",
    "        \n",
    "        \n",
    "        "
   ]
  },
  {
   "cell_type": "code",
   "execution_count": 4,
   "id": "0c794d5d",
   "metadata": {},
   "outputs": [
    {
     "data": {
      "text/plain": [
       "[2]"
      ]
     },
     "execution_count": 4,
     "metadata": {},
     "output_type": "execute_result"
    }
   ],
   "source": [
    "even_list_check([1,3,5,7,9,2])"
   ]
  },
  {
   "cell_type": "code",
   "execution_count": 5,
   "id": "6c3199dd",
   "metadata": {},
   "outputs": [],
   "source": [
    "stock_prices = [('apple',200),('google',400),('microsoft',100)]"
   ]
  },
  {
   "cell_type": "code",
   "execution_count": 11,
   "id": "2588821b",
   "metadata": {},
   "outputs": [
    {
     "name": "stdout",
     "output_type": "stream",
     "text": [
      "apple\n",
      "google\n",
      "microsoft\n"
     ]
    }
   ],
   "source": [
    "for ticker,price in stock_prices:\n",
    "     print(ticker)\n",
    "      "
   ]
  },
  {
   "cell_type": "code",
   "execution_count": 22,
   "id": "6ec392eb",
   "metadata": {},
   "outputs": [],
   "source": [
    "work_hours = [('abby',100),('billy',4000),('cassie',800)]"
   ]
  },
  {
   "cell_type": "code",
   "execution_count": 23,
   "id": "575b5347",
   "metadata": {},
   "outputs": [
    {
     "data": {
      "text/plain": [
       "('billy', 4000)"
      ]
     },
     "execution_count": 23,
     "metadata": {},
     "output_type": "execute_result"
    }
   ],
   "source": [
    "def best_worker(work_hours):\n",
    "    current_max = 0\n",
    "    employee_of_month = ''\n",
    "    \n",
    "    \n",
    "\n",
    "    for employee,hours in work_hours:\n",
    "        if hours > current_max:\n",
    "            current_max = hours\n",
    "            employee_of_month = employee\n",
    "        else:\n",
    "            pass\n",
    "    return(employee_of_month,current_max)\n",
    "\n",
    "best_worker(work_hours)\n",
    "    \n",
    "    \n",
    "    "
   ]
  },
  {
   "cell_type": "code",
   "execution_count": 24,
   "id": "78ecda3c",
   "metadata": {},
   "outputs": [],
   "source": [
    "name,hours = best_worker(work_hours)"
   ]
  },
  {
   "cell_type": "code",
   "execution_count": 25,
   "id": "1e6c1d79",
   "metadata": {},
   "outputs": [
    {
     "data": {
      "text/plain": [
       "'billy'"
      ]
     },
     "execution_count": 25,
     "metadata": {},
     "output_type": "execute_result"
    }
   ],
   "source": [
    "name"
   ]
  },
  {
   "cell_type": "code",
   "execution_count": null,
   "id": "3ec7de16",
   "metadata": {},
   "outputs": [],
   "source": []
  }
 ],
 "metadata": {
  "kernelspec": {
   "display_name": "Python 3 (ipykernel)",
   "language": "python",
   "name": "python3"
  },
  "language_info": {
   "codemirror_mode": {
    "name": "ipython",
    "version": 3
   },
   "file_extension": ".py",
   "mimetype": "text/x-python",
   "name": "python",
   "nbconvert_exporter": "python",
   "pygments_lexer": "ipython3",
   "version": "3.9.7"
  }
 },
 "nbformat": 4,
 "nbformat_minor": 5
}
