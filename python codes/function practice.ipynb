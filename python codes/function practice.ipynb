{
 "cells": [
  {
   "cell_type": "code",
   "execution_count": 1,
   "id": "899b014f",
   "metadata": {},
   "outputs": [],
   "source": [
    "def make_twenty(n1,n2):\n",
    "    if n1+n2==20:\n",
    "        return True\n",
    "    elif n1==20 or n2==20:\n",
    "        return True\n",
    "    else:\n",
    "        return False"
   ]
  },
  {
   "cell_type": "code",
   "execution_count": 2,
   "id": "cefe7057",
   "metadata": {},
   "outputs": [
    {
     "data": {
      "text/plain": [
       "True"
      ]
     },
     "execution_count": 2,
     "metadata": {},
     "output_type": "execute_result"
    }
   ],
   "source": [
    "make_twenty(20,0)"
   ]
  },
  {
   "cell_type": "code",
   "execution_count": 3,
   "id": "9dd3ed12",
   "metadata": {},
   "outputs": [],
   "source": [
    "def lesser_of_two_evens(a,b):\n",
    "    \n",
    "        if a%2==0 and b%2==0:\n",
    "            return min(a,b)\n",
    "        else:\n",
    "            return max(a,b)"
   ]
  },
  {
   "cell_type": "code",
   "execution_count": 4,
   "id": "cb8012c7",
   "metadata": {},
   "outputs": [
    {
     "data": {
      "text/plain": [
       "2"
      ]
     },
     "execution_count": 4,
     "metadata": {},
     "output_type": "execute_result"
    }
   ],
   "source": [
    "lesser_of_two_evens(2,6)"
   ]
  },
  {
   "cell_type": "code",
   "execution_count": 11,
   "id": "56e2a8a2",
   "metadata": {},
   "outputs": [],
   "source": [
    "def animal_crackers(text):\n",
    "    wordlist = text.lower().split()\n",
    "    first = wordlist[0]\n",
    "    second = wordlist[1]\n",
    "    \n",
    "    return first[0] == second[0]\n",
    "    \n"
   ]
  },
  {
   "cell_type": "code",
   "execution_count": 12,
   "id": "23234a49",
   "metadata": {},
   "outputs": [
    {
     "data": {
      "text/plain": [
       "True"
      ]
     },
     "execution_count": 12,
     "metadata": {},
     "output_type": "execute_result"
    }
   ],
   "source": [
    "animal_crackers('sives Singam')"
   ]
  },
  {
   "cell_type": "code",
   "execution_count": 13,
   "id": "bac27746",
   "metadata": {},
   "outputs": [],
   "source": [
    "def almost_there(n):\n",
    "    if n < 100:\n",
    "        return True\n",
    "    else:\n",
    "        return False"
   ]
  },
  {
   "cell_type": "code",
   "execution_count": 14,
   "id": "243eb10e",
   "metadata": {},
   "outputs": [
    {
     "data": {
      "text/plain": [
       "True"
      ]
     },
     "execution_count": 14,
     "metadata": {},
     "output_type": "execute_result"
    }
   ],
   "source": [
    "almost_there(99)"
   ]
  },
  {
   "cell_type": "code",
   "execution_count": 41,
   "id": "5d20dbf6",
   "metadata": {},
   "outputs": [],
   "source": [
    "def master_yoda(text):\n",
    "    wordlist = text.split()\n",
    "    reverse = wordlist[::-1]\n",
    "    return' '.join(reverse)\n",
    "    "
   ]
  },
  {
   "cell_type": "code",
   "execution_count": 42,
   "id": "9dda5514",
   "metadata": {},
   "outputs": [
    {
     "data": {
      "text/plain": [
       "'sives iam'"
      ]
     },
     "execution_count": 42,
     "metadata": {},
     "output_type": "execute_result"
    }
   ],
   "source": [
    "master_yoda('iam sives')"
   ]
  },
  {
   "cell_type": "code",
   "execution_count": 36,
   "id": "fa596d37",
   "metadata": {},
   "outputs": [],
   "source": [
    "sives = 'sives'"
   ]
  },
  {
   "cell_type": "code",
   "execution_count": 20,
   "id": "622144d9",
   "metadata": {},
   "outputs": [
    {
     "data": {
      "text/plain": [
       "'S'"
      ]
     },
     "execution_count": 20,
     "metadata": {},
     "output_type": "execute_result"
    }
   ],
   "source": [
    "sives[0].upper()"
   ]
  },
  {
   "cell_type": "code",
   "execution_count": 29,
   "id": "2e2b640c",
   "metadata": {},
   "outputs": [],
   "source": [
    "def old_macdonald(name):\n",
    "    first = name[0]\n",
    "    inbetween = name[1:3]\n",
    "    fourth_letter = name[3]\n",
    "    rest = name[4:]\n",
    "    \n",
    "    return first.upper() + inbetween + fourth_letter.upper() + rest\n",
    "     "
   ]
  },
  {
   "cell_type": "code",
   "execution_count": 30,
   "id": "5e0a674e",
   "metadata": {},
   "outputs": [
    {
     "data": {
      "text/plain": [
       "'SivEs'"
      ]
     },
     "execution_count": 30,
     "metadata": {},
     "output_type": "execute_result"
    }
   ],
   "source": [
    "old_macdonald('sives')"
   ]
  },
  {
   "cell_type": "code",
   "execution_count": 19,
   "id": "fc26c0be",
   "metadata": {},
   "outputs": [],
   "source": [
    "def black_jack(a,b,c):\n",
    "    if a+b+c <= 21:\n",
    "        return a+b+c\n",
    "    elif 11 in [a,b,c] and sum([a,b,c])-10 <= 31:\n",
    "        return sum([a,b,c])\n",
    "    else:\n",
    "        return\"bust\""
   ]
  },
  {
   "cell_type": "code",
   "execution_count": 20,
   "id": "b6c53851",
   "metadata": {},
   "outputs": [
    {
     "data": {
      "text/plain": [
       "31"
      ]
     },
     "execution_count": 20,
     "metadata": {},
     "output_type": "execute_result"
    }
   ],
   "source": [
    "black_jack(2,11,18)"
   ]
  },
  {
   "cell_type": "code",
   "execution_count": 26,
   "id": "10e6e717",
   "metadata": {},
   "outputs": [],
   "source": [
    "def hass_33(nums):\n",
    "    for i in range(0,len(nums)-1):\n",
    "        if nums[i:i+2] == [3,3]:\n",
    "            return True\n",
    "    return False"
   ]
  },
  {
   "cell_type": "code",
   "execution_count": 27,
   "id": "1d692caa",
   "metadata": {},
   "outputs": [
    {
     "data": {
      "text/plain": [
       "False"
      ]
     },
     "execution_count": 27,
     "metadata": {},
     "output_type": "execute_result"
    }
   ],
   "source": [
    "hass_33([1,3,0,0,7])"
   ]
  },
  {
   "cell_type": "code",
   "execution_count": 11,
   "id": "ac4ec17d",
   "metadata": {},
   "outputs": [
    {
     "data": {
      "text/plain": [
       "True"
      ]
     },
     "execution_count": 11,
     "metadata": {},
     "output_type": "execute_result"
    }
   ],
   "source": [
    "hass_33([3,3,4,5,6])"
   ]
  },
  {
   "cell_type": "code",
   "execution_count": 15,
   "id": "8b86db15",
   "metadata": {},
   "outputs": [],
   "source": [
    "def paper_doll(text):\n",
    "    result = ''\n",
    "    \n",
    "    for char in text:\n",
    "        result += char*3\n",
    "    return result"
   ]
  },
  {
   "cell_type": "code",
   "execution_count": 16,
   "id": "d0ec87fa",
   "metadata": {},
   "outputs": [
    {
     "data": {
      "text/plain": [
       "'hhheeellllllooo'"
      ]
     },
     "execution_count": 16,
     "metadata": {},
     "output_type": "execute_result"
    }
   ],
   "source": [
    "paper_doll('hello')"
   ]
  },
  {
   "cell_type": "code",
   "execution_count": 22,
   "id": "61903013",
   "metadata": {},
   "outputs": [],
   "source": [
    "def summer_69(arr):\n",
    "    total = 0\n",
    "    add = True\n",
    "    \n",
    "    for num in arr:\n",
    "        while add:\n",
    "            if num!= 6:\n",
    "                total += num\n",
    "                break\n",
    "            else:\n",
    "                add = False\n",
    "        while not add:\n",
    "            if num != 9:\n",
    "                break\n",
    "            else:\n",
    "                add = True\n",
    "                break\n",
    "                    \n",
    "    return total\n",
    "                \n",
    "            \n",
    "    "
   ]
  },
  {
   "cell_type": "code",
   "execution_count": 23,
   "id": "6a229d6b",
   "metadata": {},
   "outputs": [
    {
     "data": {
      "text/plain": [
       "20"
      ]
     },
     "execution_count": 23,
     "metadata": {},
     "output_type": "execute_result"
    }
   ],
   "source": [
    "summer_69([4,6,9,11,5])"
   ]
  },
  {
   "cell_type": "code",
   "execution_count": 28,
   "id": "90dde71c",
   "metadata": {},
   "outputs": [],
   "source": [
    "def spy_game(nums):\n",
    "    code = [0,0,7,'x']\n",
    "    for num in nums:\n",
    "        if num == code[0]:\n",
    "            code.pop(0)\n",
    "            \n",
    "    return len(code) == 1\n",
    "            \n",
    "        "
   ]
  },
  {
   "cell_type": "code",
   "execution_count": 29,
   "id": "c13cd091",
   "metadata": {},
   "outputs": [
    {
     "data": {
      "text/plain": [
       "True"
      ]
     },
     "execution_count": 29,
     "metadata": {},
     "output_type": "execute_result"
    }
   ],
   "source": [
    "spy_game([1,4,6,0,1,0,7])"
   ]
  },
  {
   "cell_type": "code",
   "execution_count": 30,
   "id": "3c0248ef",
   "metadata": {},
   "outputs": [],
   "source": [
    "def count_prime(num):\n",
    "    if num < 2:\n",
    "        return 0\n",
    "    \n",
    "    primes = [2]\n",
    "    x = 3\n",
    "    \n",
    "    while x <= num:\n",
    "        for y in range(3,x,2):\n",
    "            if x%y==0:\n",
    "                x  += 2\n",
    "                break\n",
    "        else:\n",
    "            primes.append(x)\n",
    "            x += 2\n",
    "    print(primes)\n",
    "    return len(primes)\n",
    "                \n",
    "    "
   ]
  },
  {
   "cell_type": "code",
   "execution_count": 31,
   "id": "45ff9c53",
   "metadata": {},
   "outputs": [
    {
     "name": "stdout",
     "output_type": "stream",
     "text": [
      "[2, 3, 5, 7, 11, 13, 17, 19, 23, 29, 31, 37, 41, 43, 47, 53, 59, 61, 67, 71, 73, 79, 83, 89, 97]\n"
     ]
    },
    {
     "data": {
      "text/plain": [
       "25"
      ]
     },
     "execution_count": 31,
     "metadata": {},
     "output_type": "execute_result"
    }
   ],
   "source": [
    "count_prime(100)"
   ]
  },
  {
   "cell_type": "code",
   "execution_count": null,
   "id": "9dfee5bd",
   "metadata": {},
   "outputs": [],
   "source": []
  }
 ],
 "metadata": {
  "kernelspec": {
   "display_name": "Python 3 (ipykernel)",
   "language": "python",
   "name": "python3"
  },
  "language_info": {
   "codemirror_mode": {
    "name": "ipython",
    "version": 3
   },
   "file_extension": ".py",
   "mimetype": "text/x-python",
   "name": "python",
   "nbconvert_exporter": "python",
   "pygments_lexer": "ipython3",
   "version": "3.9.7"
  }
 },
 "nbformat": 4,
 "nbformat_minor": 5
}
