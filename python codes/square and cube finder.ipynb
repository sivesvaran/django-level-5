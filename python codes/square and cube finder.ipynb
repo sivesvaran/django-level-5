{
 "cells": [
  {
   "cell_type": "code",
   "execution_count": 5,
   "id": "a5d07381",
   "metadata": {},
   "outputs": [
    {
     "name": "stdout",
     "output_type": "stream",
     "text": [
      "square or cube: cube\n",
      "enter number : 11\n",
      "cube of 11 is 1331\n"
     ]
    }
   ],
   "source": [
    "choice = input('square or cube: ')\n",
    "num = int(input('enter number : '))\n",
    "if choice == 'square':\n",
    "    print(f'square of {num} is {num**2}')\n",
    "elif choice == 'cube':\n",
    "    print(f'cube of {num} is {num**3}')"
   ]
  },
  {
   "cell_type": "code",
   "execution_count": null,
   "id": "40f3b460",
   "metadata": {},
   "outputs": [],
   "source": []
  }
 ],
 "metadata": {
  "kernelspec": {
   "display_name": "Python 3 (ipykernel)",
   "language": "python",
   "name": "python3"
  },
  "language_info": {
   "codemirror_mode": {
    "name": "ipython",
    "version": 3
   },
   "file_extension": ".py",
   "mimetype": "text/x-python",
   "name": "python",
   "nbconvert_exporter": "python",
   "pygments_lexer": "ipython3",
   "version": "3.9.7"
  }
 },
 "nbformat": 4,
 "nbformat_minor": 5
}
