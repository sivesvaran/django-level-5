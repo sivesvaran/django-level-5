{
 "cells": [
  {
   "cell_type": "code",
   "execution_count": 1,
   "id": "aa956f13",
   "metadata": {},
   "outputs": [],
   "source": [
    "import re\n",
    "text = 'my phone number is 931-234-5678'\n"
   ]
  },
  {
   "cell_type": "code",
   "execution_count": 2,
   "id": "b60859dd",
   "metadata": {},
   "outputs": [],
   "source": [
    "phone = re.search(r'\\d{10}',text)"
   ]
  },
  {
   "cell_type": "code",
   "execution_count": 3,
   "id": "a38ef089",
   "metadata": {},
   "outputs": [],
   "source": [
    "phone"
   ]
  },
  {
   "cell_type": "code",
   "execution_count": 4,
   "id": "2848ddef",
   "metadata": {},
   "outputs": [],
   "source": [
    "phone_pattern = re.compile(r'(\\d{3})-(\\d{3})-(\\d{4})')"
   ]
  },
  {
   "cell_type": "code",
   "execution_count": 5,
   "id": "0021f55e",
   "metadata": {},
   "outputs": [],
   "source": [
    "result = re.search(phone_pattern,text)"
   ]
  },
  {
   "cell_type": "code",
   "execution_count": 6,
   "id": "cd513faf",
   "metadata": {},
   "outputs": [
    {
     "data": {
      "text/plain": [
       "'931-234-5678'"
      ]
     },
     "execution_count": 6,
     "metadata": {},
     "output_type": "execute_result"
    }
   ],
   "source": [
    "result.group()"
   ]
  },
  {
   "cell_type": "code",
   "execution_count": 7,
   "id": "38756dc2",
   "metadata": {},
   "outputs": [
    {
     "data": {
      "text/plain": [
       "'931'"
      ]
     },
     "execution_count": 7,
     "metadata": {},
     "output_type": "execute_result"
    }
   ],
   "source": [
    "result.group(1)"
   ]
  },
  {
   "cell_type": "code",
   "execution_count": 8,
   "id": "5b468bef",
   "metadata": {},
   "outputs": [
    {
     "data": {
      "text/plain": [
       "<re.Match object; span=(4, 7), match='cat'>"
      ]
     },
     "execution_count": 8,
     "metadata": {},
     "output_type": "execute_result"
    }
   ],
   "source": [
    "re.search(r'cat|dog','the cat is here')"
   ]
  },
  {
   "cell_type": "code",
   "execution_count": 10,
   "id": "09b78f07",
   "metadata": {},
   "outputs": [
    {
     "data": {
      "text/plain": [
       "['cat', 'hat', 'sat']"
      ]
     },
     "execution_count": 10,
     "metadata": {},
     "output_type": "execute_result"
    }
   ],
   "source": [
    "re.findall(r'.at','the cat in the hat sat there.')"
   ]
  },
  {
   "cell_type": "code",
   "execution_count": 11,
   "id": "b36bbc4c",
   "metadata": {},
   "outputs": [
    {
     "data": {
      "text/plain": [
       "['1']"
      ]
     },
     "execution_count": 11,
     "metadata": {},
     "output_type": "execute_result"
    }
   ],
   "source": [
    "re.findall(r'^\\d','1 is a number')"
   ]
  },
  {
   "cell_type": "code",
   "execution_count": 12,
   "id": "73741073",
   "metadata": {},
   "outputs": [
    {
     "data": {
      "text/plain": [
       "['2']"
      ]
     },
     "execution_count": 12,
     "metadata": {},
     "output_type": "execute_result"
    }
   ],
   "source": [
    "re.findall(r'\\d$',' number is 2')"
   ]
  },
  {
   "cell_type": "code",
   "execution_count": 13,
   "id": "b69e2453",
   "metadata": {},
   "outputs": [],
   "source": [
    "phrase = 'there are 3 numbers 34 inside 5 in this sentence'"
   ]
  },
  {
   "cell_type": "code",
   "execution_count": 16,
   "id": "5eac5df7",
   "metadata": {},
   "outputs": [],
   "source": [
    "pattern = r'[^\\d]+'"
   ]
  },
  {
   "cell_type": "code",
   "execution_count": 18,
   "id": "b173eb20",
   "metadata": {},
   "outputs": [],
   "source": [
    "result = re.findall(pattern,phrase)"
   ]
  },
  {
   "cell_type": "code",
   "execution_count": 19,
   "id": "cff63294",
   "metadata": {},
   "outputs": [
    {
     "data": {
      "text/plain": [
       "['there are ', ' numbers ', ' inside ', ' in this sentence']"
      ]
     },
     "execution_count": 19,
     "metadata": {},
     "output_type": "execute_result"
    }
   ],
   "source": [
    "result"
   ]
  },
  {
   "cell_type": "code",
   "execution_count": 20,
   "id": "16bb23a9",
   "metadata": {},
   "outputs": [],
   "source": [
    "test_phrase = 'this is a string! but it has . how can we remove it?'"
   ]
  },
  {
   "cell_type": "code",
   "execution_count": 23,
   "id": "40662a6f",
   "metadata": {},
   "outputs": [],
   "source": [
    "clean = re.findall(r'[^!.? ]+',test_phrase)"
   ]
  },
  {
   "cell_type": "code",
   "execution_count": 24,
   "id": "4293d29d",
   "metadata": {},
   "outputs": [
    {
     "data": {
      "text/plain": [
       "'this is a string but it has how can we remove it'"
      ]
     },
     "execution_count": 24,
     "metadata": {},
     "output_type": "execute_result"
    }
   ],
   "source": [
    "' '.join(clean)"
   ]
  },
  {
   "cell_type": "code",
   "execution_count": 30,
   "id": "3391e8c3",
   "metadata": {},
   "outputs": [],
   "source": [
    "text = 'only find hypen-words in this sentence. but you do not know how long-it will be'"
   ]
  },
  {
   "cell_type": "code",
   "execution_count": 31,
   "id": "82004edc",
   "metadata": {},
   "outputs": [],
   "source": [
    "pattern = r'[\\w]+-[\\w]+'"
   ]
  },
  {
   "cell_type": "code",
   "execution_count": 32,
   "id": "9698267a",
   "metadata": {},
   "outputs": [
    {
     "data": {
      "text/plain": [
       "['hypen-words', 'long-it']"
      ]
     },
     "execution_count": 32,
     "metadata": {},
     "output_type": "execute_result"
    }
   ],
   "source": [
    "re.findall(pattern,text)"
   ]
  },
  {
   "cell_type": "code",
   "execution_count": 35,
   "id": "62862cda",
   "metadata": {},
   "outputs": [],
   "source": [
    "text = 'hello, would you need fishfry?'\n",
    "texttwo = 'hello, would you need fishnap?'\n",
    "textthree = 'hello, have you seen fishpillar?'"
   ]
  },
  {
   "cell_type": "code",
   "execution_count": 37,
   "id": "ef345a6a",
   "metadata": {},
   "outputs": [
    {
     "data": {
      "text/plain": [
       "<re.Match object; span=(22, 29), match='fishnap'>"
      ]
     },
     "execution_count": 37,
     "metadata": {},
     "output_type": "execute_result"
    }
   ],
   "source": [
    "re.search(r'fish(fry|nap|pillar)',texttwo)"
   ]
  },
  {
   "cell_type": "code",
   "execution_count": null,
   "id": "2ad00268",
   "metadata": {},
   "outputs": [],
   "source": []
  }
 ],
 "metadata": {
  "kernelspec": {
   "display_name": "Python 3 (ipykernel)",
   "language": "python",
   "name": "python3"
  },
  "language_info": {
   "codemirror_mode": {
    "name": "ipython",
    "version": 3
   },
   "file_extension": ".py",
   "mimetype": "text/x-python",
   "name": "python",
   "nbconvert_exporter": "python",
   "pygments_lexer": "ipython3",
   "version": "3.9.7"
  }
 },
 "nbformat": 4,
 "nbformat_minor": 5
}
