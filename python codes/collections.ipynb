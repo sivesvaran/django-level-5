{
 "cells": [
  {
   "cell_type": "code",
   "execution_count": 1,
   "id": "341f704d",
   "metadata": {},
   "outputs": [],
   "source": [
    "from collections import Counter"
   ]
  },
  {
   "cell_type": "code",
   "execution_count": 2,
   "id": "7b0088a4",
   "metadata": {},
   "outputs": [],
   "source": [
    "mylist = [1,1,1,1,1,2,2,2,2,3,3,3,3,3]"
   ]
  },
  {
   "cell_type": "code",
   "execution_count": 3,
   "id": "da5a7229",
   "metadata": {},
   "outputs": [
    {
     "data": {
      "text/plain": [
       "Counter({1: 5, 2: 4, 3: 5})"
      ]
     },
     "execution_count": 3,
     "metadata": {},
     "output_type": "execute_result"
    }
   ],
   "source": [
    "Counter(mylist)"
   ]
  },
  {
   "cell_type": "code",
   "execution_count": 5,
   "id": "2239145f",
   "metadata": {},
   "outputs": [
    {
     "data": {
      "text/plain": [
       "Counter({'a': 6, 'b': 5, 'd': 5, 'h': 5})"
      ]
     },
     "execution_count": 5,
     "metadata": {},
     "output_type": "execute_result"
    }
   ],
   "source": [
    "Counter('aaaaaabbbbbdhdhdhhdhd')"
   ]
  },
  {
   "cell_type": "code",
   "execution_count": 6,
   "id": "ef7a4376",
   "metadata": {},
   "outputs": [],
   "source": [
    "c = ('how many word are there')"
   ]
  },
  {
   "cell_type": "code",
   "execution_count": 10,
   "id": "bf1cebc2",
   "metadata": {},
   "outputs": [
    {
     "data": {
      "text/plain": [
       "Counter({'how': 1, 'many': 1, 'word': 1, 'are': 1, 'there': 1})"
      ]
     },
     "execution_count": 10,
     "metadata": {},
     "output_type": "execute_result"
    }
   ],
   "source": [
    "Counter(c.split())"
   ]
  },
  {
   "cell_type": "code",
   "execution_count": 14,
   "id": "8040db97",
   "metadata": {},
   "outputs": [],
   "source": [
    "h = ('a,a,a,b,a,a,a,a,d,d,d,d,f,f,g,,')"
   ]
  },
  {
   "cell_type": "code",
   "execution_count": 15,
   "id": "79c9b56d",
   "metadata": {},
   "outputs": [],
   "source": [
    "s = Counter(h)"
   ]
  },
  {
   "cell_type": "code",
   "execution_count": 18,
   "id": "e567103f",
   "metadata": {},
   "outputs": [
    {
     "data": {
      "text/plain": [
       "[(',', 16)]"
      ]
     },
     "execution_count": 18,
     "metadata": {},
     "output_type": "execute_result"
    }
   ],
   "source": [
    "s.most_common(1)"
   ]
  },
  {
   "cell_type": "code",
   "execution_count": 19,
   "id": "b1e88f02",
   "metadata": {},
   "outputs": [
    {
     "data": {
      "text/plain": [
       "['a',\n",
       " ',',\n",
       " 'a',\n",
       " ',',\n",
       " 'a',\n",
       " ',',\n",
       " 'b',\n",
       " ',',\n",
       " 'a',\n",
       " ',',\n",
       " 'a',\n",
       " ',',\n",
       " 'a',\n",
       " ',',\n",
       " 'a',\n",
       " ',',\n",
       " 'd',\n",
       " ',',\n",
       " 'd',\n",
       " ',',\n",
       " 'd',\n",
       " ',',\n",
       " 'd',\n",
       " ',',\n",
       " 'f',\n",
       " ',',\n",
       " 'f',\n",
       " ',',\n",
       " 'g',\n",
       " ',',\n",
       " ',']"
      ]
     },
     "execution_count": 19,
     "metadata": {},
     "output_type": "execute_result"
    }
   ],
   "source": [
    "list(c)"
   ]
  },
  {
   "cell_type": "code",
   "execution_count": 20,
   "id": "2f5464b1",
   "metadata": {},
   "outputs": [],
   "source": [
    "from collections import defaultdict"
   ]
  },
  {
   "cell_type": "code",
   "execution_count": 21,
   "id": "08d4fd67",
   "metadata": {},
   "outputs": [],
   "source": [
    "d = {'a':10}"
   ]
  },
  {
   "cell_type": "code",
   "execution_count": 22,
   "id": "1ee9b7c1",
   "metadata": {},
   "outputs": [
    {
     "data": {
      "text/plain": [
       "{'a': 10}"
      ]
     },
     "execution_count": 22,
     "metadata": {},
     "output_type": "execute_result"
    }
   ],
   "source": [
    "d"
   ]
  },
  {
   "cell_type": "code",
   "execution_count": 25,
   "id": "f5ff0127",
   "metadata": {},
   "outputs": [],
   "source": [
    "d = defaultdict(lambda : 10)"
   ]
  },
  {
   "cell_type": "code",
   "execution_count": 26,
   "id": "c979244d",
   "metadata": {},
   "outputs": [
    {
     "data": {
      "text/plain": [
       "10"
      ]
     },
     "execution_count": 26,
     "metadata": {},
     "output_type": "execute_result"
    }
   ],
   "source": [
    "d['w']"
   ]
  },
  {
   "cell_type": "code",
   "execution_count": 29,
   "id": "df9ed358",
   "metadata": {},
   "outputs": [
    {
     "data": {
      "text/plain": [
       "defaultdict(<function __main__.<lambda>()>, {'w': 10})"
      ]
     },
     "execution_count": 29,
     "metadata": {},
     "output_type": "execute_result"
    }
   ],
   "source": [
    "d"
   ]
  },
  {
   "cell_type": "code",
   "execution_count": 30,
   "id": "95c1e540",
   "metadata": {},
   "outputs": [],
   "source": [
    "from collections import namedtuple"
   ]
  },
  {
   "cell_type": "code",
   "execution_count": 31,
   "id": "f803e963",
   "metadata": {},
   "outputs": [],
   "source": [
    "mytuple  = (10,20,30)"
   ]
  },
  {
   "cell_type": "code",
   "execution_count": 32,
   "id": "ae36b579",
   "metadata": {},
   "outputs": [
    {
     "data": {
      "text/plain": [
       "20"
      ]
     },
     "execution_count": 32,
     "metadata": {},
     "output_type": "execute_result"
    }
   ],
   "source": [
    "mytuple[1]"
   ]
  },
  {
   "cell_type": "code",
   "execution_count": 33,
   "id": "53af3881",
   "metadata": {},
   "outputs": [],
   "source": [
    "dog = namedtuple('dog',['age','breed','name'])"
   ]
  },
  {
   "cell_type": "code",
   "execution_count": 34,
   "id": "637a8495",
   "metadata": {},
   "outputs": [],
   "source": [
    "sammy = dog(5,'german shepard','sammy')"
   ]
  },
  {
   "cell_type": "code",
   "execution_count": 35,
   "id": "042af97f",
   "metadata": {},
   "outputs": [
    {
     "data": {
      "text/plain": [
       "5"
      ]
     },
     "execution_count": 35,
     "metadata": {},
     "output_type": "execute_result"
    }
   ],
   "source": [
    "sammy.age"
   ]
  },
  {
   "cell_type": "code",
   "execution_count": null,
   "id": "945dcae4",
   "metadata": {},
   "outputs": [],
   "source": []
  }
 ],
 "metadata": {
  "kernelspec": {
   "display_name": "Python 3 (ipykernel)",
   "language": "python",
   "name": "python3"
  },
  "language_info": {
   "codemirror_mode": {
    "name": "ipython",
    "version": 3
   },
   "file_extension": ".py",
   "mimetype": "text/x-python",
   "name": "python",
   "nbconvert_exporter": "python",
   "pygments_lexer": "ipython3",
   "version": "3.9.7"
  }
 },
 "nbformat": 4,
 "nbformat_minor": 5
}
