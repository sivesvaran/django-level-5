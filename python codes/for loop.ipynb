{
 "cells": [
  {
   "cell_type": "code",
   "execution_count": 1,
   "id": "10fc52da",
   "metadata": {},
   "outputs": [
    {
     "name": "stdout",
     "output_type": "stream",
     "text": [
      "1\n",
      "2\n",
      "3\n"
     ]
    }
   ],
   "source": [
    "name = [1,2,3]\n",
    "for item_name in name:\n",
    "    print(item_name)"
   ]
  },
  {
   "cell_type": "code",
   "execution_count": 2,
   "id": "f5358cf5",
   "metadata": {},
   "outputs": [],
   "source": [
    "mylist = [1,2,3,4,5,6,7,8,9,10]"
   ]
  },
  {
   "cell_type": "code",
   "execution_count": 6,
   "id": "4a74ea1e",
   "metadata": {},
   "outputs": [
    {
     "name": "stdout",
     "output_type": "stream",
     "text": [
      "hello hi\n",
      "hello hi\n",
      "hello hi\n",
      "hello hi\n",
      "hello hi\n",
      "hello hi\n",
      "hello hi\n",
      "hello hi\n",
      "hello hi\n",
      "hello hi\n"
     ]
    }
   ],
   "source": [
    "for num in mylist:\n",
    "    print('hello')"
   ]
  },
  {
   "cell_type": "code",
   "execution_count": 9,
   "id": "5a609203",
   "metadata": {},
   "outputs": [
    {
     "name": "stdout",
     "output_type": "stream",
     "text": [
      "odd number : 1\n",
      "even number :2\n",
      "odd number : 3\n",
      "even number :4\n",
      "odd number : 5\n",
      "even number :6\n",
      "odd number : 7\n",
      "even number :8\n",
      "odd number : 9\n",
      "even number :10\n"
     ]
    }
   ],
   "source": [
    "for num in mylist:\n",
    "    if num %2 == 0:\n",
    "        print(f'even number :{num}')\n",
    "    else:\n",
    "        print(f'odd number : {num}')"
   ]
  },
  {
   "cell_type": "code",
   "execution_count": 13,
   "id": "55568b77",
   "metadata": {},
   "outputs": [
    {
     "name": "stdout",
     "output_type": "stream",
     "text": [
      "55\n"
     ]
    }
   ],
   "source": [
    "list_sum = 0\n",
    "\n",
    "for num in mylist:\n",
    "    list_sum = list_sum + num\n",
    "    \n",
    "print(list_sum)"
   ]
  },
  {
   "cell_type": "code",
   "execution_count": 4,
   "id": "101c7116",
   "metadata": {},
   "outputs": [
    {
     "ename": "TypeError",
     "evalue": "'int' object is not iterable",
     "output_type": "error",
     "traceback": [
      "\u001b[1;31m---------------------------------------------------------------------------\u001b[0m",
      "\u001b[1;31mTypeError\u001b[0m                                 Traceback (most recent call last)",
      "\u001b[1;32m~\\AppData\\Local\\Temp/ipykernel_24244/2371724294.py\u001b[0m in \u001b[0;36m<module>\u001b[1;34m\u001b[0m\n\u001b[0;32m      1\u001b[0m \u001b[0mmylist\u001b[0m \u001b[1;33m=\u001b[0m \u001b[1;36m2\u001b[0m\u001b[1;33m\u001b[0m\u001b[1;33m\u001b[0m\u001b[0m\n\u001b[0;32m      2\u001b[0m \u001b[1;33m\u001b[0m\u001b[0m\n\u001b[1;32m----> 3\u001b[1;33m \u001b[1;32mfor\u001b[0m \u001b[0mhello\u001b[0m \u001b[1;32min\u001b[0m \u001b[0mmylist\u001b[0m\u001b[1;33m:\u001b[0m\u001b[1;33m\u001b[0m\u001b[1;33m\u001b[0m\u001b[0m\n\u001b[0m\u001b[0;32m      4\u001b[0m     \u001b[0mnum\u001b[0m \u001b[1;33m=\u001b[0m \u001b[0mlist_sum\u001b[0m \u001b[1;33m*\u001b[0m \u001b[0mhello\u001b[0m\u001b[1;33m\u001b[0m\u001b[1;33m\u001b[0m\u001b[0m\n\u001b[0;32m      5\u001b[0m \u001b[1;33m\u001b[0m\u001b[0m\n",
      "\u001b[1;31mTypeError\u001b[0m: 'int' object is not iterable"
     ]
    }
   ],
   "source": [
    "mylist = 2\n",
    "\n",
    "for hello in mylist:\n",
    "    num = list_sum * hello\n",
    "    \n",
    "print(num)"
   ]
  },
  {
   "cell_type": "code",
   "execution_count": 18,
   "id": "bfda7018",
   "metadata": {},
   "outputs": [
    {
     "name": "stdout",
     "output_type": "stream",
     "text": [
      "h\n",
      "e\n",
      "l\n",
      "l\n",
      "o\n",
      " \n",
      "w\n",
      "o\n",
      "r\n",
      "l\n",
      "d\n"
     ]
    }
   ],
   "source": [
    "mystring = 'hello world'\n",
    "for letter in mystring:\n",
    "    print(letter)"
   ]
  },
  {
   "cell_type": "code",
   "execution_count": 19,
   "id": "b35198da",
   "metadata": {},
   "outputs": [
    {
     "name": "stdout",
     "output_type": "stream",
     "text": [
      "iam cool\n",
      "iam cool\n",
      "iam cool\n"
     ]
    }
   ],
   "source": [
    "tup = (1,2,3)\n",
    "\n",
    "for _ in tup:\n",
    "    print('iam cool!')"
   ]
  },
  {
   "cell_type": "code",
   "execution_count": 20,
   "id": "41183fe5",
   "metadata": {},
   "outputs": [],
   "source": [
    "mylist = [(1,2),(3,4),(5,6)]"
   ]
  },
  {
   "cell_type": "code",
   "execution_count": 23,
   "id": "cff4829f",
   "metadata": {},
   "outputs": [
    {
     "name": "stdout",
     "output_type": "stream",
     "text": [
      "1\n",
      "2\n",
      "3\n",
      "4\n",
      "5\n",
      "6\n"
     ]
    }
   ],
   "source": [
    "for (a,b) in mylist:\n",
    "    print(a)\n",
    "    print(b)"
   ]
  },
  {
   "cell_type": "code",
   "execution_count": 24,
   "id": "85b22bfb",
   "metadata": {},
   "outputs": [],
   "source": [
    "mylist = [(1,2,3),(4,5,6),(7,8,9)]"
   ]
  },
  {
   "cell_type": "code",
   "execution_count": 25,
   "id": "788bdbbb",
   "metadata": {},
   "outputs": [
    {
     "name": "stdout",
     "output_type": "stream",
     "text": [
      "2\n",
      "5\n",
      "8\n"
     ]
    }
   ],
   "source": [
    "for a,b,c in mylist:\n",
    "    print(b)"
   ]
  },
  {
   "cell_type": "code",
   "execution_count": 32,
   "id": "9a606592",
   "metadata": {},
   "outputs": [
    {
     "name": "stdout",
     "output_type": "stream",
     "text": [
      "k1\n",
      "1\n",
      "k2\n",
      "2\n",
      "k3\n",
      "4\n"
     ]
    }
   ],
   "source": [
    "d = {'k1':1,'k2':2,'k3':4}\n",
    "\n",
    "for key,value in d.items():\n",
    "    print(key)\n",
    "    print(value)"
   ]
  },
  {
   "cell_type": "code",
   "execution_count": null,
   "id": "8f6faae1",
   "metadata": {},
   "outputs": [],
   "source": []
  }
 ],
 "metadata": {
  "kernelspec": {
   "display_name": "Python 3 (ipykernel)",
   "language": "python",
   "name": "python3"
  },
  "language_info": {
   "codemirror_mode": {
    "name": "ipython",
    "version": 3
   },
   "file_extension": ".py",
   "mimetype": "text/x-python",
   "name": "python",
   "nbconvert_exporter": "python",
   "pygments_lexer": "ipython3",
   "version": "3.9.7"
  }
 },
 "nbformat": 4,
 "nbformat_minor": 5
}
