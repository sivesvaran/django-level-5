{
 "cells": [
  {
   "cell_type": "code",
   "execution_count": 1,
   "id": "c5487309",
   "metadata": {},
   "outputs": [],
   "source": [
    "def display(row1,row2,row3):\n",
    "    print(row1)\n",
    "    print(row2)\n",
    "    print(row3)\n"
   ]
  },
  {
   "cell_type": "code",
   "execution_count": 2,
   "id": "1a01c355",
   "metadata": {},
   "outputs": [
    {
     "name": "stdout",
     "output_type": "stream",
     "text": [
      "[' ', ' ', ' ']\n",
      "[' ', ' ', ' ']\n",
      "[' ', ' ', ' ']\n"
     ]
    }
   ],
   "source": [
    "row1 = [' ',' ',' ']\n",
    "row2= [' ',' ',' ']\n",
    "row3 = [' ',' ',' ']\n",
    "display(row1,row2,row3)"
   ]
  },
  {
   "cell_type": "code",
   "execution_count": 3,
   "id": "efc3ad0d",
   "metadata": {},
   "outputs": [],
   "source": [
    "row2[1] = 'X'"
   ]
  },
  {
   "cell_type": "code",
   "execution_count": 4,
   "id": "c7cd4b4f",
   "metadata": {},
   "outputs": [
    {
     "name": "stdout",
     "output_type": "stream",
     "text": [
      "[' ', ' ', ' ']\n",
      "[' ', 'X', ' ']\n",
      "[' ', ' ', ' ']\n"
     ]
    }
   ],
   "source": [
    "display(row1,row2,row3)"
   ]
  },
  {
   "cell_type": "code",
   "execution_count": 5,
   "id": "36b87d09",
   "metadata": {},
   "outputs": [
    {
     "name": "stdout",
     "output_type": "stream",
     "text": [
      "enter a value : 2\n"
     ]
    }
   ],
   "source": [
    "result = int(input('enter a value : '))"
   ]
  },
  {
   "cell_type": "code",
   "execution_count": 6,
   "id": "c24288fa",
   "metadata": {},
   "outputs": [],
   "source": [
    "row1[result] = 'X'"
   ]
  },
  {
   "cell_type": "code",
   "execution_count": 7,
   "id": "04c6798f",
   "metadata": {},
   "outputs": [
    {
     "data": {
      "text/plain": [
       "[' ', ' ', 'X']"
      ]
     },
     "execution_count": 7,
     "metadata": {},
     "output_type": "execute_result"
    }
   ],
   "source": [
    "row1"
   ]
  },
  {
   "cell_type": "code",
   "execution_count": 8,
   "id": "0fff8264",
   "metadata": {},
   "outputs": [
    {
     "name": "stdout",
     "output_type": "stream",
     "text": [
      "[' ', ' ', 'X']\n",
      "[' ', 'X', ' ']\n",
      "[' ', ' ', ' ']\n"
     ]
    }
   ],
   "source": [
    "display(row1,row2,row3)"
   ]
  },
  {
   "cell_type": "code",
   "execution_count": null,
   "id": "f848680d",
   "metadata": {},
   "outputs": [],
   "source": [
    "\n",
    "\n",
    "  \n",
    "    \n",
    "   "
   ]
  },
  {
   "cell_type": "code",
   "execution_count": null,
   "id": "6184f42a",
   "metadata": {},
   "outputs": [],
   "source": []
  },
  {
   "cell_type": "code",
   "execution_count": 17,
   "id": "73883338",
   "metadata": {},
   "outputs": [],
   "source": [
    "some_value = '100'"
   ]
  },
  {
   "cell_type": "code",
   "execution_count": 18,
   "id": "3c4eadc7",
   "metadata": {},
   "outputs": [
    {
     "data": {
      "text/plain": [
       "True"
      ]
     },
     "execution_count": 18,
     "metadata": {},
     "output_type": "execute_result"
    }
   ],
   "source": [
    "some_value.isdigit()"
   ]
  },
  {
   "cell_type": "code",
   "execution_count": 19,
   "id": "8084146f",
   "metadata": {},
   "outputs": [],
   "source": [
    "result = 'worng value'"
   ]
  },
  {
   "cell_type": "code",
   "execution_count": 20,
   "id": "841a6c4b",
   "metadata": {},
   "outputs": [],
   "source": [
    "acceptable_value = [0,1,2]"
   ]
  },
  {
   "cell_type": "code",
   "execution_count": 21,
   "id": "abcf234f",
   "metadata": {},
   "outputs": [
    {
     "data": {
      "text/plain": [
       "False"
      ]
     },
     "execution_count": 21,
     "metadata": {},
     "output_type": "execute_result"
    }
   ],
   "source": [
    "result in acceptable_value"
   ]
  },
  {
   "cell_type": "code",
   "execution_count": 22,
   "id": "c47a9740",
   "metadata": {},
   "outputs": [
    {
     "data": {
      "text/plain": [
       "True"
      ]
     },
     "execution_count": 22,
     "metadata": {},
     "output_type": "execute_result"
    }
   ],
   "source": [
    "result not in acceptable_value"
   ]
  },
  {
   "cell_type": "code",
   "execution_count": 27,
   "id": "22857148",
   "metadata": {},
   "outputs": [
    {
     "ename": "IndentationError",
     "evalue": "expected an indented block (Temp/ipykernel_16052/4134701908.py, line 30)",
     "output_type": "error",
     "traceback": [
      "\u001b[1;36m  File \u001b[1;32m\"C:\\Users\\Dell\\AppData\\Local\\Temp/ipykernel_16052/4134701908.py\"\u001b[1;36m, line \u001b[1;32m30\u001b[0m\n\u001b[1;33m    return int(choice)\u001b[0m\n\u001b[1;37m    ^\u001b[0m\n\u001b[1;31mIndentationError\u001b[0m\u001b[1;31m:\u001b[0m expected an indented block\n"
     ]
    }
   ],
   "source": [
    "def user_choice():\n",
    "    choice = 'wrong'\n",
    "    acceptable_range = [0,1,2,3,4,5,6,7,8,9]\n",
    "    within_range = False\n",
    "    while choice.isdigit() == False or within_range ==False:\n",
    "    \n",
    "        choice = input('please enter a number(0-10) : ')\n",
    "        \n",
    "        if choice.isdigit() == False:\n",
    "            print('sorry! enter a integer')\n",
    "            \n",
    "            \n",
    "        if  choice.isdigit() == True:\n",
    "            \n",
    "            if int(choice) in acceptable_range:\n",
    "                \n",
    "                \n",
    "            \n",
    "            \n",
    " \n",
    "            \n",
    "             \n",
    "           \n",
    "                    \n",
    "          \n",
    "\n",
    "        \n",
    "        \n",
    "       \n",
    "    return int(choice)\n"
   ]
  },
  {
   "cell_type": "code",
   "execution_count": 25,
   "id": "d62ab4aa",
   "metadata": {},
   "outputs": [
    {
     "ename": "NameError",
     "evalue": "name 'user_choice' is not defined",
     "output_type": "error",
     "traceback": [
      "\u001b[1;31m---------------------------------------------------------------------------\u001b[0m",
      "\u001b[1;31mNameError\u001b[0m                                 Traceback (most recent call last)",
      "\u001b[1;32m~\\AppData\\Local\\Temp/ipykernel_16052/2296594588.py\u001b[0m in \u001b[0;36m<module>\u001b[1;34m\u001b[0m\n\u001b[1;32m----> 1\u001b[1;33m \u001b[0muser_choice\u001b[0m\u001b[1;33m(\u001b[0m\u001b[1;33m)\u001b[0m\u001b[1;33m\u001b[0m\u001b[1;33m\u001b[0m\u001b[0m\n\u001b[0m",
      "\u001b[1;31mNameError\u001b[0m: name 'user_choice' is not defined"
     ]
    }
   ],
   "source": [
    "user_choice()"
   ]
  },
  {
   "cell_type": "code",
   "execution_count": null,
   "id": "ca83cbeb",
   "metadata": {},
   "outputs": [],
   "source": []
  },
  {
   "cell_type": "code",
   "execution_count": null,
   "id": "91bbae92",
   "metadata": {},
   "outputs": [],
   "source": []
  }
 ],
 "metadata": {
  "kernelspec": {
   "display_name": "Python 3 (ipykernel)",
   "language": "python",
   "name": "python3"
  },
  "language_info": {
   "codemirror_mode": {
    "name": "ipython",
    "version": 3
   },
   "file_extension": ".py",
   "mimetype": "text/x-python",
   "name": "python",
   "nbconvert_exporter": "python",
   "pygments_lexer": "ipython3",
   "version": "3.9.7"
  }
 },
 "nbformat": 4,
 "nbformat_minor": 5
}
