{
 "cells": [
  {
   "cell_type": "code",
   "execution_count": 1,
   "id": "96b28f21",
   "metadata": {},
   "outputs": [
    {
     "name": "stdout",
     "output_type": "stream",
     "text": [
      "i always run\n"
     ]
    }
   ],
   "source": [
    "try:\n",
    "    f = open('testfile',mode='w')\n",
    "    f.write('write a testline')\n",
    "except TypeError:\n",
    "    print('type error happened ')\n",
    "except OSError:\n",
    "    print('hey there is a os error')\n",
    "finally:\n",
    "    print('i always run')\n",
    "    \n",
    "    "
   ]
  },
  {
   "cell_type": "code",
   "execution_count": 2,
   "id": "8d1dc17c",
   "metadata": {},
   "outputs": [],
   "source": [
    "def ask_for_init():\n",
    "    while True:\n",
    "        try:\n",
    "            result = int(input('enter a number : '))\n",
    "        \n",
    "        except:\n",
    "            print('error occured')\n",
    "        else:\n",
    "            print(result)\n",
    "            print('thank you')\n",
    "            break\n",
    "    "
   ]
  },
  {
   "cell_type": "code",
   "execution_count": 3,
   "id": "0cf6e98e",
   "metadata": {},
   "outputs": [
    {
     "name": "stdout",
     "output_type": "stream",
     "text": [
      "enter a number : r\n",
      "error occured\n",
      "enter a number : 45\n",
      "45\n",
      "thank you\n"
     ]
    }
   ],
   "source": [
    "ask_for_init()"
   ]
  },
  {
   "cell_type": "code",
   "execution_count": null,
   "id": "961350ed",
   "metadata": {},
   "outputs": [],
   "source": []
  }
 ],
 "metadata": {
  "kernelspec": {
   "display_name": "Python 3 (ipykernel)",
   "language": "python",
   "name": "python3"
  },
  "language_info": {
   "codemirror_mode": {
    "name": "ipython",
    "version": 3
   },
   "file_extension": ".py",
   "mimetype": "text/x-python",
   "name": "python",
   "nbconvert_exporter": "python",
   "pygments_lexer": "ipython3",
   "version": "3.9.7"
  }
 },
 "nbformat": 4,
 "nbformat_minor": 5
}
