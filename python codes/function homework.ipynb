{
 "cells": [
  {
   "cell_type": "code",
   "execution_count": 23,
   "id": "58c3299c",
   "metadata": {},
   "outputs": [],
   "source": [
    "def ran_check(num,low,high):\n",
    "    if num > low and num < high:\n",
    "        return(f'{num} is in the range between {low} and {high}')\n",
    "    else:\n",
    "        return False\n"
   ]
  },
  {
   "cell_type": "code",
   "execution_count": 24,
   "id": "195fd91a",
   "metadata": {},
   "outputs": [
    {
     "data": {
      "text/plain": [
       "False"
      ]
     },
     "execution_count": 24,
     "metadata": {},
     "output_type": "execute_result"
    }
   ],
   "source": [
    "ran_check(3,4,10)"
   ]
  },
  {
   "cell_type": "code",
   "execution_count": 2,
   "id": "494a93f1",
   "metadata": {},
   "outputs": [],
   "source": [
    "h = 'helleh'"
   ]
  },
  {
   "cell_type": "code",
   "execution_count": 4,
   "id": "320b4940",
   "metadata": {},
   "outputs": [
    {
     "data": {
      "text/plain": [
       "'helleh'"
      ]
     },
     "execution_count": 4,
     "metadata": {},
     "output_type": "execute_result"
    }
   ],
   "source": [
    "h[::-1]"
   ]
  },
  {
   "cell_type": "code",
   "execution_count": 5,
   "id": "20ffdaa9",
   "metadata": {},
   "outputs": [],
   "source": [
    "def palindrome(s):\n",
    "    if s == s[::-1]:\n",
    "        return True\n",
    "    else:\n",
    "        return False"
   ]
  },
  {
   "cell_type": "code",
   "execution_count": 15,
   "id": "507c8bce",
   "metadata": {},
   "outputs": [
    {
     "data": {
      "text/plain": [
       "False"
      ]
     },
     "execution_count": 15,
     "metadata": {},
     "output_type": "execute_result"
    }
   ],
   "source": [
    "palindrome('sives')"
   ]
  },
  {
   "cell_type": "code",
   "execution_count": 8,
   "id": "4192425a",
   "metadata": {},
   "outputs": [],
   "source": [
    "list1 = [1,2,3,4,5,1,2,3,4,5]"
   ]
  },
  {
   "cell_type": "code",
   "execution_count": 9,
   "id": "a85b9137",
   "metadata": {},
   "outputs": [
    {
     "data": {
      "text/plain": [
       "{1, 2, 3, 4, 5}"
      ]
     },
     "execution_count": 9,
     "metadata": {},
     "output_type": "execute_result"
    }
   ],
   "source": [
    "set(list1)"
   ]
  },
  {
   "cell_type": "code",
   "execution_count": 12,
   "id": "8b13c0e5",
   "metadata": {},
   "outputs": [],
   "source": [
    "def unique_list(list2):\n",
    "    return set(list2)\n",
    "    "
   ]
  },
  {
   "cell_type": "code",
   "execution_count": 13,
   "id": "449ab14e",
   "metadata": {},
   "outputs": [
    {
     "data": {
      "text/plain": [
       "{1, 2, 3, 4}"
      ]
     },
     "execution_count": 13,
     "metadata": {},
     "output_type": "execute_result"
    }
   ],
   "source": [
    "unique_list([1,1,1,1,1,2,2,2,2,2,3,3,3,3,3,3,3,4,4,4,4,4])"
   ]
  },
  {
   "cell_type": "code",
   "execution_count": 27,
   "id": "ba0cf263",
   "metadata": {},
   "outputs": [],
   "source": [
    "def multiply(num):\n",
    "    total = 1\n",
    "    for num in num:\n",
    "        total = total*num\n",
    "    return total\n",
    "    \n",
    "    "
   ]
  },
  {
   "cell_type": "code",
   "execution_count": 28,
   "id": "448ef3b1",
   "metadata": {},
   "outputs": [
    {
     "data": {
      "text/plain": [
       "24"
      ]
     },
     "execution_count": 28,
     "metadata": {},
     "output_type": "execute_result"
    }
   ],
   "source": [
    "multiply([1,2,3,4])"
   ]
  },
  {
   "cell_type": "code",
   "execution_count": 20,
   "id": "7cb8a6e3",
   "metadata": {},
   "outputs": [],
   "source": [
    "def vol(rad):\n",
    "    return (4/3)*(3.14)*(rad**3)\n",
    "    "
   ]
  },
  {
   "cell_type": "code",
   "execution_count": 21,
   "id": "296e6fbf",
   "metadata": {},
   "outputs": [
    {
     "data": {
      "text/plain": [
       "33.49333333333333"
      ]
     },
     "execution_count": 21,
     "metadata": {},
     "output_type": "execute_result"
    }
   ],
   "source": [
    "vol(2)"
   ]
  },
  {
   "cell_type": "code",
   "execution_count": 25,
   "id": "afd5bb41",
   "metadata": {},
   "outputs": [],
   "source": [
    "def up_low(s):\n",
    "    lowercase = 0\n",
    "    uppercase = 0\n",
    "    \n",
    "    for char in s:\n",
    "        if char.isupper():\n",
    "            uppercase += 1\n",
    "        elif char.islower():\n",
    "            lowercase += 1\n",
    "        else:\n",
    "            pass\n",
    "    print(f\"original string : {s}\")\n",
    "    print(f\"lowercase count : {lowercase}\")\n",
    "    print(f\"uppercase count : {uppercase}\")"
   ]
  },
  {
   "cell_type": "code",
   "execution_count": 26,
   "id": "ce20b4cf",
   "metadata": {},
   "outputs": [
    {
     "name": "stdout",
     "output_type": "stream",
     "text": [
      "original string : hello Iam Sivesvaran OF GRADE 8\n",
      "lowercase count : 16\n",
      "uppercase count : 9\n"
     ]
    }
   ],
   "source": [
    "up_low('hello Iam Sivesvaran OF GRADE 8')"
   ]
  },
  {
   "cell_type": "code",
   "execution_count": 29,
   "id": "4e8444d7",
   "metadata": {},
   "outputs": [],
   "source": [
    "import string\n",
    "\n",
    "def ispangram(str1, alphabet=string.ascii_lowercase):\n",
    "    alphaset = set(alphabet)\n",
    "    str1 =  str1.replace(' ',' ')\n",
    "    str1 = str1.lower()\n",
    "    str1 = set(str1)\n",
    "    return str1 == alphaset"
   ]
  },
  {
   "cell_type": "code",
   "execution_count": 30,
   "id": "5c8a6352",
   "metadata": {},
   "outputs": [
    {
     "data": {
      "text/plain": [
       "False"
      ]
     },
     "execution_count": 30,
     "metadata": {},
     "output_type": "execute_result"
    }
   ],
   "source": [
    "ispangram(\"The quick brown fox jumps over the lazy dog\")"
   ]
  },
  {
   "cell_type": "code",
   "execution_count": 31,
   "id": "5a87ab5f",
   "metadata": {},
   "outputs": [
    {
     "data": {
      "text/plain": [
       "'abcdefghijklmnopqrstuvwxyz'"
      ]
     },
     "execution_count": 31,
     "metadata": {},
     "output_type": "execute_result"
    }
   ],
   "source": [
    "string.ascii_lowercase"
   ]
  },
  {
   "cell_type": "code",
   "execution_count": null,
   "id": "732920bf",
   "metadata": {},
   "outputs": [],
   "source": []
  }
 ],
 "metadata": {
  "kernelspec": {
   "display_name": "Python 3 (ipykernel)",
   "language": "python",
   "name": "python3"
  },
  "language_info": {
   "codemirror_mode": {
    "name": "ipython",
    "version": 3
   },
   "file_extension": ".py",
   "mimetype": "text/x-python",
   "name": "python",
   "nbconvert_exporter": "python",
   "pygments_lexer": "ipython3",
   "version": "3.9.7"
  }
 },
 "nbformat": 4,
 "nbformat_minor": 5
}
