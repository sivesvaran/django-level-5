{
 "cells": [
  {
   "cell_type": "code",
   "execution_count": 1,
   "id": "319819c4",
   "metadata": {},
   "outputs": [],
   "source": [
    "def ask():\n",
    "    while True:\n",
    "            try:\n",
    "                result = int(input('enter a number : '))\n",
    "\n",
    "            except:\n",
    "                print('error occured')\n",
    "            else:\n",
    "                print(f'square of {result} is {result*result}')\n",
    "                print('thank you')\n",
    "                break\n",
    "        "
   ]
  },
  {
   "cell_type": "code",
   "execution_count": 2,
   "id": "cd3e9138",
   "metadata": {},
   "outputs": [
    {
     "name": "stdout",
     "output_type": "stream",
     "text": [
      "enter a number : null\n",
      "error occured\n",
      "enter a number : 2\n",
      "square of 2 is 4\n",
      "thank you\n"
     ]
    }
   ],
   "source": [
    "ask()"
   ]
  },
  {
   "cell_type": "code",
   "execution_count": 3,
   "id": "7d2b5fd1",
   "metadata": {},
   "outputs": [
    {
     "name": "stdout",
     "output_type": "stream",
     "text": [
      "error occured\n",
      "all done\n"
     ]
    }
   ],
   "source": [
    "x = 5\n",
    "x = 0\n",
    "try:\n",
    "    z = x/y\n",
    "except:\n",
    "    print('error occured')\n",
    "finally:\n",
    "    print('all done')"
   ]
  },
  {
   "cell_type": "code",
   "execution_count": 6,
   "id": "24c7fd1d",
   "metadata": {},
   "outputs": [
    {
     "name": "stdout",
     "output_type": "stream",
     "text": [
      "error occured\n"
     ]
    }
   ],
   "source": [
    "try:\n",
    "    for i in ['a','b','c']:\n",
    "            print(i**2)\n",
    "except:\n",
    "    print('error occured')\n",
    "    "
   ]
  },
  {
   "cell_type": "code",
   "execution_count": null,
   "id": "a6399474",
   "metadata": {},
   "outputs": [],
   "source": []
  }
 ],
 "metadata": {
  "kernelspec": {
   "display_name": "Python 3 (ipykernel)",
   "language": "python",
   "name": "python3"
  },
  "language_info": {
   "codemirror_mode": {
    "name": "ipython",
    "version": 3
   },
   "file_extension": ".py",
   "mimetype": "text/x-python",
   "name": "python",
   "nbconvert_exporter": "python",
   "pygments_lexer": "ipython3",
   "version": "3.9.7"
  }
 },
 "nbformat": 4,
 "nbformat_minor": 5
}
